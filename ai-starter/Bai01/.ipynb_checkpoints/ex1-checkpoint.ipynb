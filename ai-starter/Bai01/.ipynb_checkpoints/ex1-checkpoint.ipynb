{
 "cells": [
  {
   "cell_type": "markdown",
   "id": "57fb97d5-4157-427f-8efa-1c7dcf601eed",
   "metadata": {},
   "source": [
    "ưhwhhw"
   ]
  },
  {
   "cell_type": "code",
   "execution_count": 2,
   "id": "1baa9ff2-0fac-46f6-bf21-e24598447d70",
   "metadata": {},
   "outputs": [
    {
     "name": "stdout",
     "output_type": "stream",
     "text": [
      "â\n"
     ]
    }
   ],
   "source": [
    "print(\"â\")"
   ]
  },
  {
   "cell_type": "code",
   "execution_count": 3,
   "id": "ff6182b7-c03d-4325-a418-1897c90e2fbf",
   "metadata": {},
   "outputs": [],
   "source": [
    "A=10"
   ]
  },
  {
   "cell_type": "code",
   "execution_count": null,
   "id": "625a5f46-4c34-4bf0-92ad-d311ced044bc",
   "metadata": {},
   "outputs": [],
   "source": []
  }
 ],
 "metadata": {
  "kernelspec": {
   "display_name": "Python 3 (ipykernel)",
   "language": "python",
   "name": "python3"
  },
  "language_info": {
   "codemirror_mode": {
    "name": "ipython",
    "version": 3
   },
   "file_extension": ".py",
   "mimetype": "text/x-python",
   "name": "python",
   "nbconvert_exporter": "python",
   "pygments_lexer": "ipython3",
   "version": "3.12.1"
  }
 },
 "nbformat": 4,
 "nbformat_minor": 5
}
